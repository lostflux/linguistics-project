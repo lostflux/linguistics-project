{
  "cells": [
    {
      "cell_type": "code",
      "execution_count": 1,
      "metadata": {
        "colab": {
          "base_uri": "https://localhost:8080/"
        },
        "id": "xYgIn9dcBPmf",
        "outputId": "712294b1-53f7-4d12-8de8-d5ccdc12954e"
      },
      "outputs": [],
      "source": [
        "# %pip install pytorch_lightning"
      ]
    },
    {
      "cell_type": "code",
      "execution_count": 2,
      "metadata": {
        "id": "TuOzAxpATzY1"
      },
      "outputs": [],
      "source": [
        "# imports\n",
        "import torch\n",
        "import torch.nn as nn\n",
        "import torch.optim as optim\n",
        "import math\n",
        "import pytorch_lightning as pl\n",
        "import torchaudio"
      ]
    },
    {
      "cell_type": "code",
      "execution_count": 3,
      "metadata": {
        "colab": {
          "base_uri": "https://localhost:8080/"
        },
        "id": "nT7lBemwZWm2",
        "outputId": "ba42628d-f940-4527-bc92-6991ce7a20a3"
      },
      "outputs": [
        {
          "data": {
            "text/plain": [
              "False"
            ]
          },
          "execution_count": 3,
          "metadata": {},
          "output_type": "execute_result"
        }
      ],
      "source": [
        "torch.cuda.is_available()"
      ]
    },
    {
      "cell_type": "code",
      "execution_count": 4,
      "metadata": {
        "id": "xytqEb8a_1Vi"
      },
      "outputs": [],
      "source": [
        "class SpeechEmotionRecognitionModel(pl.LightningModule):\n",
        "    def __init__(self, input_size, num_classes, dim_model=512, nhead=8, num_encoder_layers=6, num_decoder_layers=6, lr=0.001):\n",
        "        super(SpeechEmotionRecognitionModel, self).__init__()\n",
        "        self.lr = lr\n",
        "        self.transformer = nn.Transformer(d_model=dim_model, nhead=nhead,\n",
        "                                          num_encoder_layers=num_encoder_layers,\n",
        "                                          num_decoder_layers=num_decoder_layers)\n",
        "        self.encoder = nn.Linear(input_size, dim_model)\n",
        "        self.decoder = nn.Linear(dim_model, num_classes)\n",
        "        self.loss_function = nn.CrossEntropyLoss()\n",
        "\n",
        "    def forward(self, src):\n",
        "        src = self.encoder(src)\n",
        "        output = self.transformer(src, src)\n",
        "        output = self.decoder(output)\n",
        "        return output\n",
        "\n",
        "    def training_step(self, batch, batch_idx):\n",
        "        src, tgt = batch\n",
        "        output = self(src)\n",
        "        loss = self.loss_function(output, tgt)\n",
        "        self.log(\"train_loss\", loss)\n",
        "        return loss\n",
        "\n",
        "    def configure_optimizers(self):\n",
        "        optimizer = torch.optim.Adam(self.parameters(), lr=self.lr)\n",
        "        return optimizer"
      ]
    }
  ],
  "metadata": {
    "colab": {
      "provenance": []
    },
    "kernelspec": {
      "display_name": "Python 3",
      "name": "python3"
    },
    "language_info": {
      "codemirror_mode": {
        "name": "ipython",
        "version": 3
      },
      "file_extension": ".py",
      "mimetype": "text/x-python",
      "name": "python",
      "nbconvert_exporter": "python",
      "pygments_lexer": "ipython3",
      "version": "3.11.0"
    }
  },
  "nbformat": 4,
  "nbformat_minor": 0
}
