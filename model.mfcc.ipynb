{
  "cells": [
    {
      "cell_type": "markdown",
      "metadata": {},
      "source": [
        "# CS-72: Accelerated Computational Linguistics\n",
        "\n",
        "## Final Project Code\n",
        "\n",
        "### Emotion Detection in Audio\n",
        "\n",
        "### Team Members:\n",
        "\n",
        "- Aiwei Zhang\n",
        "- Amittai Siavava\n",
        "- Carlos Guerrero Alvarez\n",
        "\n",
        "> This is a variant of our model that uses MFCC (Mel-frequency cepstral coefficients) features extracted from audio."
      ]
    },
    {
      "cell_type": "code",
      "execution_count": 1,
      "metadata": {
        "colab": {
          "base_uri": "https://localhost:8080/"
        },
        "id": "xYgIn9dcBPmf",
        "outputId": "712294b1-53f7-4d12-8de8-d5ccdc12954e"
      },
      "outputs": [],
      "source": [
        "# %pip install pytorch_lightning\n",
        "# %pip install transformers\n",
        "# %pip install torchmetrics\n",
        "# %pip install soundfile\n",
        "# %pip install librosa\n",
        "# %pip install ipywidgets"
      ]
    },
    {
      "cell_type": "code",
      "execution_count": 2,
      "metadata": {
        "id": "TuOzAxpATzY1"
      },
      "outputs": [
        {
          "name": "stderr",
          "output_type": "stream",
          "text": [
            "/usr/lib/python3/dist-packages/pkg_resources/__init__.py:116: PkgResourcesDeprecationWarning: 1.12.1-git20200711.33e2d80-dfsg1-0.6 is an invalid version and will not be supported in a future release\n",
            "  warnings.warn(\n",
            "/usr/lib/python3/dist-packages/pkg_resources/__init__.py:116: PkgResourcesDeprecationWarning: 1.12.1-git20200711.33e2d80-dfsg1-0.6 is an invalid version and will not be supported in a future release\n",
            "  warnings.warn(\n"
          ]
        }
      ],
      "source": [
        "# imports\n",
        "import torch\n",
        "import torch.nn as nn\n",
        "import torch.optim as optim\n",
        "# import math\n",
        "import pytorch_lightning as pl\n",
        "# import torchaudio\n",
        "import torchmetrics\n",
        "from torch.optim.lr_scheduler import ReduceLROnPlateau"
      ]
    },
    {
      "cell_type": "code",
      "execution_count": 3,
      "metadata": {
        "colab": {
          "base_uri": "https://localhost:8080/"
        },
        "id": "nT7lBemwZWm2",
        "outputId": "ba42628d-f940-4527-bc92-6991ce7a20a3"
      },
      "outputs": [
        {
          "data": {
            "text/plain": [
              "True"
            ]
          },
          "execution_count": 3,
          "metadata": {},
          "output_type": "execute_result"
        }
      ],
      "source": [
        "torch.cuda.is_available()"
      ]
    },
    {
      "cell_type": "code",
      "execution_count": 4,
      "metadata": {},
      "outputs": [],
      "source": [
        "from local_dataset import AudioEmotionsDataset \n",
        "# import TQDMProgressBar\n",
        "from pytorch_lightning.callbacks import TQDMProgressBar"
      ]
    },
    {
      "cell_type": "code",
      "execution_count": 5,
      "metadata": {},
      "outputs": [
        {
          "name": "stderr",
          "output_type": "stream",
          "text": [
            "Some weights of Wav2Vec2ForCTC were not initialized from the model checkpoint at facebook/wav2vec2-base-960h and are newly initialized: ['wav2vec2.masked_spec_embed']\n",
            "You should probably TRAIN this model on a down-stream task to be able to use it for predictions and inference.\n",
            "/usr/lib/python3/dist-packages/scipy/__init__.py:146: UserWarning: A NumPy version >=1.17.3 and <1.25.0 is required for this version of SciPy (detected version 1.25.2\n",
            "  warnings.warn(f\"A NumPy version >={np_minversion} and <{np_maxversion}\"\n"
          ]
        },
        {
          "name": "stdout",
          "output_type": "stream",
          "text": [
            "LOADED: 2400\r"
          ]
        }
      ],
      "source": [
        "BATCH_SIZE = 32\n",
        "dataset = AudioEmotionsDataset(\"/home/ubuntu/siavava-west-1/test/data/audio-emotions\", batch_size=BATCH_SIZE, max_size=200, feature_type=\"mfcc\")\n",
        "\n",
        "train = dataset.train_dataloader\n",
        "test = dataset.test_dataloader\n"
      ]
    },
    {
      "cell_type": "code",
      "execution_count": 6,
      "metadata": {},
      "outputs": [
        {
          "name": "stdout",
          "output_type": "stream",
          "text": [
            "X.shape = torch.Size([32, 40])\n",
            "0 torch.Size([32, 7, 1])\n",
            "1 torch.Size([32, 7, 1])\n",
            "2 torch.Size([32, 7, 1])\n",
            "3 torch.Size([32, 7])\n",
            "4 torch.Size([32, 7])\n",
            "5 torch.Size([32, 7])\n"
          ]
        }
      ],
      "source": [
        "m1 = nn.Conv1d(in_channels=1, kernel_size=40, out_channels=7)\n",
        "\n",
        "m2 = nn.ReLU()\n",
        "\n",
        "m3 = nn.Dropout(p=0.2)\n",
        "\n",
        "m4 = nn.Flatten(start_dim=1, end_dim=2)\n",
        "\n",
        "m5 = nn.Linear(2304, 7)\n",
        "\n",
        "m6 = nn.Softmax(dim=1)\n",
        "\n",
        "\n",
        "# m2 = nn.Linear(64, 7)\n",
        "\n",
        "# m2 = nn.Linear(7, 7)\n",
        "\n",
        "\n",
        "# m4 = nn.Linear(7, 7)\n",
        "\n",
        "m5 = nn.Softmax(dim=1)\n",
        "\n",
        "# m6 = nn.Softmax(dim=1)\n",
        "\n",
        "# m1 = nn.Conv1d(in_channels=1, out_channels=40, padding=\"same\")\n",
        "\n",
        "# m2 = nn.ReLU()\n",
        "\n",
        "# m3 = nn.Dropout(p=0.2)\n",
        "\n",
        "# m4 = nn.Flatten()\n",
        "\n",
        "# m5 = nn.Linear(5, 7)\n",
        "\n",
        "# m6 = nn.Softmax(dim=1)\n",
        "\n",
        "# weighted average\n",
        "# w = nn.Parameter(torch.randn(1024, 1))\n",
        "\n",
        "for batch in train:\n",
        "    X, y = batch\n",
        "    # print(f\"{X}\")\n",
        "    # print(X[0], \"\\n\", X.shape)\n",
        "    # X = X.unsqueeze(1)\n",
        "    # print(X[0], \"\\n\", X.shape)\n",
        "\n",
        "    print(f\"{X.shape = }\")\n",
        "\n",
        "    X = X.view(X.shape[0], 1, X.shape[1])\n",
        "\n",
        "    for i, layer in enumerate([m1, m2, m3, m4, m5, m6]):\n",
        "        X = layer(X)\n",
        "        print(i, X.shape)\n",
        "    \n",
        "    break"
      ]
    },
    {
      "cell_type": "code",
      "execution_count": 21,
      "metadata": {
        "id": "xytqEb8a_1Vi"
      },
      "outputs": [],
      "source": [
        "class Reshape(nn.Module):\n",
        "    def __init__(self):\n",
        "        super(Reshape, self).__init__()\n",
        "        # self.shape = shape\n",
        "\n",
        "    def forward(self, x):\n",
        "        # return x.view((x.shape[0], *self.shape))\n",
        "        return x.view(x.shape[0], 1, x.shape[1])\n",
        "    \n",
        "    def __call__(self, x):\n",
        "        return self.forward(x)\n",
        "    \n",
        "# class Squeeze(nn.Module):\n",
        "#     def __init__(self):\n",
        "#         super(Squeeze, self).__init__()\n",
        "\n",
        "#     def forward(self, x):\n",
        "#         return x.squeeze()\n",
        "    \n",
        "#     def __call__(self, x):\n",
        "#         return self.forward(x)\n",
        "\n",
        "# class Print(nn.Module):\n",
        "#     def __init__(self, name: int=0):\n",
        "#         super(Print, self).__init__()\n",
        "#         self.name = name\n",
        "\n",
        "#     def forward(self, x):\n",
        "#         # print(f\"{self.name:2d}: {x.shape}\")\n",
        "#         return x\n",
        "    \n",
        "#     def __call__(self, x):\n",
        "#         return self.forward(x)\n",
        "    \n",
        "\n",
        "\n",
        "class SpeechEmotionRecognitionModel(pl.LightningModule):\n",
        "    def __init__(self, input_size, num_classes, dim_feedforward=2048, dim_model=1024, nhead=8, num_encoder_layers=6, num_decoder_layers=6, lr=0.5, dropout=0.1):\n",
        "        super(SpeechEmotionRecognitionModel, self).__init__()\n",
        "        self.lr = lr\n",
        "\n",
        "        self.layers = nn.Sequential(\n",
        "            Reshape(),\n",
        "            nn.Conv1d(in_channels=1, kernel_size=40, out_channels=7),\n",
        "            nn.ReLU(),\n",
        "            nn.Dropout(p=0.2),\n",
        "            nn.Flatten(start_dim=1, end_dim=2),\n",
        "            nn.Linear(7, 7),\n",
        "            nn.Softmax(dim=1),\n",
        "            # nn.Sigmoid()\n",
        "        )\n",
        "        \n",
        "\n",
        "        # initialize the metrics\n",
        "        self.loss_function = nn.CrossEntropyLoss()\n",
        "        self.precision = torchmetrics.Precision(task='multiclass', num_classes=num_classes, average=\"macro\")\n",
        "        self.recall = torchmetrics.Recall(task='multiclass', num_classes=num_classes, average=\"macro\")\n",
        "        self.F1 = torchmetrics.F1Score(task='multiclass', num_classes=num_classes, average=\"macro\")\n",
        "\n",
        "    def forward(self, src):\n",
        "        output = self.layers(src)\n",
        "        return output\n",
        "\n",
        "    def training_step(self, batch, batch_idx):\n",
        "        src, tgt = batch\n",
        "    \n",
        "        output = self(src)\n",
        "\n",
        "        loss = self.loss_function(output, torch.argmax(tgt, axis=1))\n",
        "        self.log('cross entropy loss_step', loss, on_step=True, on_epoch=True, prog_bar=True)\n",
        "        return loss\n",
        "\n",
        "    def validation_step(self, batch, batch_idx):\n",
        "        src, tgt = batch\n",
        "        output = self(src)\n",
        "        loss = self.loss_function(output, torch.argmax(tgt, axis=1))\n",
        "        # print(f\"VALIDATION LOSS: {loss}\")\n",
        "\n",
        "    def configure_optimizers(self):\n",
        "        optimizer = torch.optim.Adam(self.parameters(), lr=self.lr)\n",
        "        scheduler = {\n",
        "            'scheduler': ReduceLROnPlateau(optimizer, mode='min', factor=0.1, patience=2, verbose=True),\n",
        "            'monitor': 'cross entropy loss_step',  # Name of the metric to monitor\n",
        "            'interval': 'epoch',\n",
        "            'frequency': 1,\n",
        "        }\n",
        "        return {'optimizer': optimizer, 'lr_scheduler': scheduler}\n",
        "\n",
        "    # function for evaluating the quality of output and target\n",
        "    def evaluation(self, output, target, loss):\n",
        "\n",
        "        precision = self.precision(output, target)\n",
        "        recall = self.recall(output, target)\n",
        "        f1 = self.F1(output, target)\n",
        "\n",
        "        print(f\"CE:        {loss}\")\n",
        "        print(f\"PRECISION: {precision}\")\n",
        "        print(f\"RECALL:    {recall}\")\n",
        "        print(f\"F1:        {f1}\")"
      ]
    },
    {
      "cell_type": "code",
      "execution_count": 187,
      "metadata": {},
      "outputs": [
        {
          "name": "stderr",
          "output_type": "stream",
          "text": [
            "GPU available: True (cuda), used: True\n",
            "TPU available: False, using: 0 TPU cores\n",
            "IPU available: False, using: 0 IPUs\n",
            "HPU available: False, using: 0 HPUs\n"
          ]
        }
      ],
      "source": [
        "model = SpeechEmotionRecognitionModel(input_size=dataset.feature_count, num_classes=dataset.class_count)\n",
        "\n",
        "# for p in model.parameters():\n",
        "#     if p.dim() > 1:\n",
        "#         nn.init.xavier_uniform_(p)\n",
        "# callbacks=[TQDMProgressBar(refresh_rate=10)]\n",
        "trainer = pl.Trainer(default_root_dir='checkpoints', accelerator=\"auto\", max_epochs=50, min_epochs=2, log_every_n_steps=1)"
      ]
    },
    {
      "cell_type": "code",
      "execution_count": 188,
      "metadata": {},
      "outputs": [
        {
          "name": "stdout",
          "output_type": "stream",
          "text": [
            "X: cuda:0\n",
            "y: cuda:0\n",
            "model: cpu\n",
            "output: cuda:0\n",
            "CE:        2.068202495574951\n",
            "PRECISION: 0.42825111746788025\n",
            "RECALL:    0.4973958432674408\n",
            "F1:        0.4602409601211548\n"
          ]
        }
      ],
      "source": [
        "for batch in test:\n",
        "    X, y = batch\n",
        "    X = X.cuda(0)\n",
        "    y = y.cuda(0)\n",
        "    print(f\"X: {X.device}\")\n",
        "    print(f\"y: {y.device}\")\n",
        "    print(f\"model: {model.device}\")\n",
        "\n",
        "    model = model.cuda(0)\n",
        "    output = model(X)\n",
        "    # print out put device\n",
        "    print(f\"output: {X.device}\")\n",
        "    model.evaluation(output, y, model.loss_function(output, y))\n",
        "\n",
        "    # for i in range(32):\n",
        "    #     print(f\"{torch.argmax(output[i]):2d} | {torch.argmax(y[i]):2d} >>> {torch.max(output[i]):.2f}\")\n",
        "    break"
      ]
    },
    {
      "cell_type": "code",
      "execution_count": 189,
      "metadata": {},
      "outputs": [
        {
          "name": "stderr",
          "output_type": "stream",
          "text": [
            "LOCAL_RANK: 0 - CUDA_VISIBLE_DEVICES: [0]\n",
            "\n",
            "  | Name          | Type                | Params\n",
            "------------------------------------------------------\n",
            "0 | layers        | Sequential          | 343   \n",
            "1 | loss_function | CrossEntropyLoss    | 0     \n",
            "2 | precision     | MulticlassPrecision | 0     \n",
            "3 | recall        | MulticlassRecall    | 0     \n",
            "4 | F1            | MulticlassF1Score   | 0     \n",
            "------------------------------------------------------\n",
            "343       Trainable params\n",
            "0         Non-trainable params\n",
            "343       Total params\n",
            "0.001     Total estimated model params size (MB)\n"
          ]
        },
        {
          "data": {
            "application/vnd.jupyter.widget-view+json": {
              "model_id": "bd04b32119084368bd43c83457e28a22",
              "version_major": 2,
              "version_minor": 0
            },
            "text/plain": [
              "Sanity Checking: |          | 0/? [00:00<?, ?it/s]"
            ]
          },
          "metadata": {},
          "output_type": "display_data"
        },
        {
          "data": {
            "application/vnd.jupyter.widget-view+json": {
              "model_id": "0ea598ffb84343f5854e43c8eaf759cf",
              "version_major": 2,
              "version_minor": 0
            },
            "text/plain": [
              "Training: |          | 0/? [00:00<?, ?it/s]"
            ]
          },
          "metadata": {},
          "output_type": "display_data"
        },
        {
          "data": {
            "application/vnd.jupyter.widget-view+json": {
              "model_id": "bb49715b063949e59d987f398b41aea4",
              "version_major": 2,
              "version_minor": 0
            },
            "text/plain": [
              "Validation: |          | 0/? [00:00<?, ?it/s]"
            ]
          },
          "metadata": {},
          "output_type": "display_data"
        },
        {
          "data": {
            "application/vnd.jupyter.widget-view+json": {
              "model_id": "63f72a535adf4cc98e3c0e0d2bf42612",
              "version_major": 2,
              "version_minor": 0
            },
            "text/plain": [
              "Validation: |          | 0/? [00:00<?, ?it/s]"
            ]
          },
          "metadata": {},
          "output_type": "display_data"
        },
        {
          "data": {
            "application/vnd.jupyter.widget-view+json": {
              "model_id": "0b71f50fbe9e4c0c99c72facced30277",
              "version_major": 2,
              "version_minor": 0
            },
            "text/plain": [
              "Validation: |          | 0/? [00:00<?, ?it/s]"
            ]
          },
          "metadata": {},
          "output_type": "display_data"
        },
        {
          "data": {
            "application/vnd.jupyter.widget-view+json": {
              "model_id": "70d38024cfd148de894ab3c0dcc3577f",
              "version_major": 2,
              "version_minor": 0
            },
            "text/plain": [
              "Validation: |          | 0/? [00:00<?, ?it/s]"
            ]
          },
          "metadata": {},
          "output_type": "display_data"
        },
        {
          "data": {
            "application/vnd.jupyter.widget-view+json": {
              "model_id": "3905bd1403c6430dab8934afbd12ef0b",
              "version_major": 2,
              "version_minor": 0
            },
            "text/plain": [
              "Validation: |          | 0/? [00:00<?, ?it/s]"
            ]
          },
          "metadata": {},
          "output_type": "display_data"
        },
        {
          "data": {
            "application/vnd.jupyter.widget-view+json": {
              "model_id": "3c088391dea94b78b20298f66a65520b",
              "version_major": 2,
              "version_minor": 0
            },
            "text/plain": [
              "Validation: |          | 0/? [00:00<?, ?it/s]"
            ]
          },
          "metadata": {},
          "output_type": "display_data"
        },
        {
          "data": {
            "application/vnd.jupyter.widget-view+json": {
              "model_id": "f82324aba3814ad0b2cac578177a73c9",
              "version_major": 2,
              "version_minor": 0
            },
            "text/plain": [
              "Validation: |          | 0/? [00:00<?, ?it/s]"
            ]
          },
          "metadata": {},
          "output_type": "display_data"
        },
        {
          "data": {
            "application/vnd.jupyter.widget-view+json": {
              "model_id": "b848f5b011524d4799e0253de7376174",
              "version_major": 2,
              "version_minor": 0
            },
            "text/plain": [
              "Validation: |          | 0/? [00:00<?, ?it/s]"
            ]
          },
          "metadata": {},
          "output_type": "display_data"
        },
        {
          "name": "stdout",
          "output_type": "stream",
          "text": [
            "Epoch 00008: reducing learning rate of group 0 to 5.0000e-02.\n"
          ]
        },
        {
          "data": {
            "application/vnd.jupyter.widget-view+json": {
              "model_id": "2a80ab2fc994430e971e06667848dc07",
              "version_major": 2,
              "version_minor": 0
            },
            "text/plain": [
              "Validation: |          | 0/? [00:00<?, ?it/s]"
            ]
          },
          "metadata": {},
          "output_type": "display_data"
        },
        {
          "data": {
            "application/vnd.jupyter.widget-view+json": {
              "model_id": "73011e35e0d7495f9a2a6a2ff00c7133",
              "version_major": 2,
              "version_minor": 0
            },
            "text/plain": [
              "Validation: |          | 0/? [00:00<?, ?it/s]"
            ]
          },
          "metadata": {},
          "output_type": "display_data"
        },
        {
          "data": {
            "application/vnd.jupyter.widget-view+json": {
              "model_id": "f15ab42457c74bf69791efed7ce38187",
              "version_major": 2,
              "version_minor": 0
            },
            "text/plain": [
              "Validation: |          | 0/? [00:00<?, ?it/s]"
            ]
          },
          "metadata": {},
          "output_type": "display_data"
        },
        {
          "name": "stdout",
          "output_type": "stream",
          "text": [
            "Epoch 00011: reducing learning rate of group 0 to 5.0000e-03.\n"
          ]
        },
        {
          "data": {
            "application/vnd.jupyter.widget-view+json": {
              "model_id": "2dddda712c2947bb8daeb3578afe12e5",
              "version_major": 2,
              "version_minor": 0
            },
            "text/plain": [
              "Validation: |          | 0/? [00:00<?, ?it/s]"
            ]
          },
          "metadata": {},
          "output_type": "display_data"
        },
        {
          "data": {
            "application/vnd.jupyter.widget-view+json": {
              "model_id": "6b9a617cfa884732a4508a66bea547c9",
              "version_major": 2,
              "version_minor": 0
            },
            "text/plain": [
              "Validation: |          | 0/? [00:00<?, ?it/s]"
            ]
          },
          "metadata": {},
          "output_type": "display_data"
        },
        {
          "data": {
            "application/vnd.jupyter.widget-view+json": {
              "model_id": "13044633425f40f19ec669ecf60ac353",
              "version_major": 2,
              "version_minor": 0
            },
            "text/plain": [
              "Validation: |          | 0/? [00:00<?, ?it/s]"
            ]
          },
          "metadata": {},
          "output_type": "display_data"
        },
        {
          "name": "stdout",
          "output_type": "stream",
          "text": [
            "Epoch 00014: reducing learning rate of group 0 to 5.0000e-04.\n"
          ]
        },
        {
          "data": {
            "application/vnd.jupyter.widget-view+json": {
              "model_id": "74150b4299564011a3c0fe4fc482fa0a",
              "version_major": 2,
              "version_minor": 0
            },
            "text/plain": [
              "Validation: |          | 0/? [00:00<?, ?it/s]"
            ]
          },
          "metadata": {},
          "output_type": "display_data"
        },
        {
          "data": {
            "application/vnd.jupyter.widget-view+json": {
              "model_id": "e260be538bf14c57b42736723fddaae1",
              "version_major": 2,
              "version_minor": 0
            },
            "text/plain": [
              "Validation: |          | 0/? [00:00<?, ?it/s]"
            ]
          },
          "metadata": {},
          "output_type": "display_data"
        },
        {
          "data": {
            "application/vnd.jupyter.widget-view+json": {
              "model_id": "6dd4f4014f78492b9e217ec04b98f01d",
              "version_major": 2,
              "version_minor": 0
            },
            "text/plain": [
              "Validation: |          | 0/? [00:00<?, ?it/s]"
            ]
          },
          "metadata": {},
          "output_type": "display_data"
        },
        {
          "name": "stdout",
          "output_type": "stream",
          "text": [
            "Epoch 00017: reducing learning rate of group 0 to 5.0000e-05.\n"
          ]
        },
        {
          "data": {
            "application/vnd.jupyter.widget-view+json": {
              "model_id": "4e72ec8ee0234d67827f1b7a50533122",
              "version_major": 2,
              "version_minor": 0
            },
            "text/plain": [
              "Validation: |          | 0/? [00:00<?, ?it/s]"
            ]
          },
          "metadata": {},
          "output_type": "display_data"
        },
        {
          "data": {
            "application/vnd.jupyter.widget-view+json": {
              "model_id": "b54d45a1fc6540efa788d97c53a297c5",
              "version_major": 2,
              "version_minor": 0
            },
            "text/plain": [
              "Validation: |          | 0/? [00:00<?, ?it/s]"
            ]
          },
          "metadata": {},
          "output_type": "display_data"
        },
        {
          "data": {
            "application/vnd.jupyter.widget-view+json": {
              "model_id": "91c411833a1f4623b97d0b63618db9e7",
              "version_major": 2,
              "version_minor": 0
            },
            "text/plain": [
              "Validation: |          | 0/? [00:00<?, ?it/s]"
            ]
          },
          "metadata": {},
          "output_type": "display_data"
        },
        {
          "name": "stdout",
          "output_type": "stream",
          "text": [
            "Epoch 00020: reducing learning rate of group 0 to 5.0000e-06.\n"
          ]
        },
        {
          "data": {
            "application/vnd.jupyter.widget-view+json": {
              "model_id": "4223f3f1d75b45dd9c4a7f1e71ca2fad",
              "version_major": 2,
              "version_minor": 0
            },
            "text/plain": [
              "Validation: |          | 0/? [00:00<?, ?it/s]"
            ]
          },
          "metadata": {},
          "output_type": "display_data"
        },
        {
          "data": {
            "application/vnd.jupyter.widget-view+json": {
              "model_id": "454ef12d02484e98a6a237ba3069d13f",
              "version_major": 2,
              "version_minor": 0
            },
            "text/plain": [
              "Validation: |          | 0/? [00:00<?, ?it/s]"
            ]
          },
          "metadata": {},
          "output_type": "display_data"
        },
        {
          "data": {
            "application/vnd.jupyter.widget-view+json": {
              "model_id": "a6ba211d20be479ba65a6d3638c49b3e",
              "version_major": 2,
              "version_minor": 0
            },
            "text/plain": [
              "Validation: |          | 0/? [00:00<?, ?it/s]"
            ]
          },
          "metadata": {},
          "output_type": "display_data"
        },
        {
          "name": "stdout",
          "output_type": "stream",
          "text": [
            "Epoch 00023: reducing learning rate of group 0 to 5.0000e-07.\n"
          ]
        },
        {
          "data": {
            "application/vnd.jupyter.widget-view+json": {
              "model_id": "7db3184c5c1141f9be83ae4f703a9492",
              "version_major": 2,
              "version_minor": 0
            },
            "text/plain": [
              "Validation: |          | 0/? [00:00<?, ?it/s]"
            ]
          },
          "metadata": {},
          "output_type": "display_data"
        },
        {
          "data": {
            "application/vnd.jupyter.widget-view+json": {
              "model_id": "240aebca44ed4969940a40ceabc37649",
              "version_major": 2,
              "version_minor": 0
            },
            "text/plain": [
              "Validation: |          | 0/? [00:00<?, ?it/s]"
            ]
          },
          "metadata": {},
          "output_type": "display_data"
        },
        {
          "data": {
            "application/vnd.jupyter.widget-view+json": {
              "model_id": "37a11c94a9dc4c328507e8308514734b",
              "version_major": 2,
              "version_minor": 0
            },
            "text/plain": [
              "Validation: |          | 0/? [00:00<?, ?it/s]"
            ]
          },
          "metadata": {},
          "output_type": "display_data"
        },
        {
          "name": "stdout",
          "output_type": "stream",
          "text": [
            "Epoch 00026: reducing learning rate of group 0 to 5.0000e-08.\n"
          ]
        },
        {
          "data": {
            "application/vnd.jupyter.widget-view+json": {
              "model_id": "cf2c3d026f144865b326e639bfe47b87",
              "version_major": 2,
              "version_minor": 0
            },
            "text/plain": [
              "Validation: |          | 0/? [00:00<?, ?it/s]"
            ]
          },
          "metadata": {},
          "output_type": "display_data"
        },
        {
          "data": {
            "application/vnd.jupyter.widget-view+json": {
              "model_id": "a6a919282d7d418791af8629d6cea8fd",
              "version_major": 2,
              "version_minor": 0
            },
            "text/plain": [
              "Validation: |          | 0/? [00:00<?, ?it/s]"
            ]
          },
          "metadata": {},
          "output_type": "display_data"
        },
        {
          "data": {
            "application/vnd.jupyter.widget-view+json": {
              "model_id": "cb7174afcdb7412c9cf245e3913a296d",
              "version_major": 2,
              "version_minor": 0
            },
            "text/plain": [
              "Validation: |          | 0/? [00:00<?, ?it/s]"
            ]
          },
          "metadata": {},
          "output_type": "display_data"
        },
        {
          "data": {
            "application/vnd.jupyter.widget-view+json": {
              "model_id": "cc055ccb67574d5e970c7e1cb8d0eadd",
              "version_major": 2,
              "version_minor": 0
            },
            "text/plain": [
              "Validation: |          | 0/? [00:00<?, ?it/s]"
            ]
          },
          "metadata": {},
          "output_type": "display_data"
        },
        {
          "data": {
            "application/vnd.jupyter.widget-view+json": {
              "model_id": "f0b1dae15d1b4adc9547aaadbd73196f",
              "version_major": 2,
              "version_minor": 0
            },
            "text/plain": [
              "Validation: |          | 0/? [00:00<?, ?it/s]"
            ]
          },
          "metadata": {},
          "output_type": "display_data"
        },
        {
          "name": "stdout",
          "output_type": "stream",
          "text": [
            "Epoch 00031: reducing learning rate of group 0 to 5.0000e-09.\n"
          ]
        },
        {
          "data": {
            "application/vnd.jupyter.widget-view+json": {
              "model_id": "f08d101bd78f4ed1bfa44ae18afabbe2",
              "version_major": 2,
              "version_minor": 0
            },
            "text/plain": [
              "Validation: |          | 0/? [00:00<?, ?it/s]"
            ]
          },
          "metadata": {},
          "output_type": "display_data"
        },
        {
          "data": {
            "application/vnd.jupyter.widget-view+json": {
              "model_id": "d693f5eb9ba644c7a06daefc625d6daf",
              "version_major": 2,
              "version_minor": 0
            },
            "text/plain": [
              "Validation: |          | 0/? [00:00<?, ?it/s]"
            ]
          },
          "metadata": {},
          "output_type": "display_data"
        },
        {
          "data": {
            "application/vnd.jupyter.widget-view+json": {
              "model_id": "3c90d04783c2409a870784400496e215",
              "version_major": 2,
              "version_minor": 0
            },
            "text/plain": [
              "Validation: |          | 0/? [00:00<?, ?it/s]"
            ]
          },
          "metadata": {},
          "output_type": "display_data"
        },
        {
          "data": {
            "application/vnd.jupyter.widget-view+json": {
              "model_id": "6c32008450574d07bbf0cb3353949b19",
              "version_major": 2,
              "version_minor": 0
            },
            "text/plain": [
              "Validation: |          | 0/? [00:00<?, ?it/s]"
            ]
          },
          "metadata": {},
          "output_type": "display_data"
        },
        {
          "data": {
            "application/vnd.jupyter.widget-view+json": {
              "model_id": "b68aa2ace58b49aebc504be26b7b8093",
              "version_major": 2,
              "version_minor": 0
            },
            "text/plain": [
              "Validation: |          | 0/? [00:00<?, ?it/s]"
            ]
          },
          "metadata": {},
          "output_type": "display_data"
        },
        {
          "data": {
            "application/vnd.jupyter.widget-view+json": {
              "model_id": "42b247eced7b4144bfebbe4259077e82",
              "version_major": 2,
              "version_minor": 0
            },
            "text/plain": [
              "Validation: |          | 0/? [00:00<?, ?it/s]"
            ]
          },
          "metadata": {},
          "output_type": "display_data"
        },
        {
          "data": {
            "application/vnd.jupyter.widget-view+json": {
              "model_id": "8682dd337e114ec8acc2c6b08b0535f7",
              "version_major": 2,
              "version_minor": 0
            },
            "text/plain": [
              "Validation: |          | 0/? [00:00<?, ?it/s]"
            ]
          },
          "metadata": {},
          "output_type": "display_data"
        },
        {
          "data": {
            "application/vnd.jupyter.widget-view+json": {
              "model_id": "9232b2993ffc48a0a9b96802c8021340",
              "version_major": 2,
              "version_minor": 0
            },
            "text/plain": [
              "Validation: |          | 0/? [00:00<?, ?it/s]"
            ]
          },
          "metadata": {},
          "output_type": "display_data"
        },
        {
          "data": {
            "application/vnd.jupyter.widget-view+json": {
              "model_id": "f60e5f8dbd76481bb7a7d48cb98cbd93",
              "version_major": 2,
              "version_minor": 0
            },
            "text/plain": [
              "Validation: |          | 0/? [00:00<?, ?it/s]"
            ]
          },
          "metadata": {},
          "output_type": "display_data"
        },
        {
          "data": {
            "application/vnd.jupyter.widget-view+json": {
              "model_id": "35f495bd48ab4e02b452d49ec36b708d",
              "version_major": 2,
              "version_minor": 0
            },
            "text/plain": [
              "Validation: |          | 0/? [00:00<?, ?it/s]"
            ]
          },
          "metadata": {},
          "output_type": "display_data"
        },
        {
          "data": {
            "application/vnd.jupyter.widget-view+json": {
              "model_id": "08b1eba90f0446449f79291c2b17f924",
              "version_major": 2,
              "version_minor": 0
            },
            "text/plain": [
              "Validation: |          | 0/? [00:00<?, ?it/s]"
            ]
          },
          "metadata": {},
          "output_type": "display_data"
        },
        {
          "data": {
            "application/vnd.jupyter.widget-view+json": {
              "model_id": "64dc166eff334d09b1b67efc47b679cf",
              "version_major": 2,
              "version_minor": 0
            },
            "text/plain": [
              "Validation: |          | 0/? [00:00<?, ?it/s]"
            ]
          },
          "metadata": {},
          "output_type": "display_data"
        },
        {
          "data": {
            "application/vnd.jupyter.widget-view+json": {
              "model_id": "fb5c99c6f1cc4188829b222399e360e2",
              "version_major": 2,
              "version_minor": 0
            },
            "text/plain": [
              "Validation: |          | 0/? [00:00<?, ?it/s]"
            ]
          },
          "metadata": {},
          "output_type": "display_data"
        },
        {
          "data": {
            "application/vnd.jupyter.widget-view+json": {
              "model_id": "bfc7ffcf9eb946e7bf09b6b1c2f53892",
              "version_major": 2,
              "version_minor": 0
            },
            "text/plain": [
              "Validation: |          | 0/? [00:00<?, ?it/s]"
            ]
          },
          "metadata": {},
          "output_type": "display_data"
        },
        {
          "data": {
            "application/vnd.jupyter.widget-view+json": {
              "model_id": "6a2037d88b654c00841ba4b87ca32132",
              "version_major": 2,
              "version_minor": 0
            },
            "text/plain": [
              "Validation: |          | 0/? [00:00<?, ?it/s]"
            ]
          },
          "metadata": {},
          "output_type": "display_data"
        },
        {
          "data": {
            "application/vnd.jupyter.widget-view+json": {
              "model_id": "b7f2c9a00cb94b7ca204c1403cff0230",
              "version_major": 2,
              "version_minor": 0
            },
            "text/plain": [
              "Validation: |          | 0/? [00:00<?, ?it/s]"
            ]
          },
          "metadata": {},
          "output_type": "display_data"
        },
        {
          "data": {
            "application/vnd.jupyter.widget-view+json": {
              "model_id": "4e390c41cceb4e58a45167f3f4ceac04",
              "version_major": 2,
              "version_minor": 0
            },
            "text/plain": [
              "Validation: |          | 0/? [00:00<?, ?it/s]"
            ]
          },
          "metadata": {},
          "output_type": "display_data"
        },
        {
          "data": {
            "application/vnd.jupyter.widget-view+json": {
              "model_id": "5673bc06e10140c4b497cb3352e73e52",
              "version_major": 2,
              "version_minor": 0
            },
            "text/plain": [
              "Validation: |          | 0/? [00:00<?, ?it/s]"
            ]
          },
          "metadata": {},
          "output_type": "display_data"
        },
        {
          "data": {
            "application/vnd.jupyter.widget-view+json": {
              "model_id": "69453bd74a974537b3d9126d353e428a",
              "version_major": 2,
              "version_minor": 0
            },
            "text/plain": [
              "Validation: |          | 0/? [00:00<?, ?it/s]"
            ]
          },
          "metadata": {},
          "output_type": "display_data"
        },
        {
          "name": "stderr",
          "output_type": "stream",
          "text": [
            "`Trainer.fit` stopped: `max_epochs=50` reached.\n"
          ]
        }
      ],
      "source": [
        "torch.set_float32_matmul_precision('medium')\n",
        "trainer.fit(model, train_dataloaders=train, val_dataloaders=test)"
      ]
    },
    {
      "cell_type": "code",
      "execution_count": 212,
      "metadata": {},
      "outputs": [
        {
          "name": "stdout",
          "output_type": "stream",
          "text": [
            "X: cuda:0\n",
            "y: cuda:0\n",
            "model: cuda:0\n",
            "output: cuda:0\n",
            "CE:        1.8528821468353271\n",
            "PRECISION: 0.6099656224250793\n",
            "RECALL:    0.6041666269302368\n",
            "F1:        0.6068861484527588\n"
          ]
        }
      ],
      "source": [
        "for batch in test:\n",
        "    X, y = batch\n",
        "    X = X.cuda(0)\n",
        "    y = y.cuda(0)\n",
        "    print(f\"X: {X.device}\")\n",
        "    print(f\"y: {y.device}\")\n",
        "    print(f\"model: {model.device}\")\n",
        "\n",
        "    model = model.cuda(0)\n",
        "    output = model(X)\n",
        "    # print out put device\n",
        "    print(f\"output: {X.device}\")\n",
        "    model.evaluation(output, y, model.loss_function(output, y))\n",
        "\n",
        "    # for i in range(32):\n",
        "    #     print(f\"{torch.argmax(output[i]):2d} | {torch.argmax(y[i]):2d} >>> {torch.max(output[i]):.2f}\")\n",
        "    break"
      ]
    },
    {
      "cell_type": "code",
      "execution_count": 213,
      "metadata": {},
      "outputs": [],
      "source": [
        "# create 'models' directory if nonexistent\n",
        "# import os\n",
        "# if not os.path.exists(\"models\"):\n",
        "#     os.makedirs(\"models\")\n",
        "# # save model weights\n",
        "# torch.save(model.state_dict(), \"./models/model_weights.pth\")"
      ]
    }
  ],
  "metadata": {
    "colab": {
      "provenance": []
    },
    "kernelspec": {
      "display_name": "Python 3",
      "name": "python3"
    },
    "language_info": {
      "codemirror_mode": {
        "name": "ipython",
        "version": 3
      },
      "file_extension": ".py",
      "mimetype": "text/x-python",
      "name": "python",
      "nbconvert_exporter": "python",
      "pygments_lexer": "ipython3",
      "version": "3.10.12"
    }
  },
  "nbformat": 4,
  "nbformat_minor": 0
}
